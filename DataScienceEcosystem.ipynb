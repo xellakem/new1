{
 "cells": [
  {
   "cell_type": "markdown",
   "id": "196ae741-a183-41bf-bda2-7e19214ffaf0",
   "metadata": {},
   "source": [
    "# Data Science Tools and Ecosystem\n"
   ]
  },
  {
   "cell_type": "markdown",
   "id": "52004cc1-216f-47aa-b36c-3ba22100eecb",
   "metadata": {},
   "source": [
    "In this notebook, Data Science Tools and Ecosystem are summarized."
   ]
  },
  {
   "cell_type": "markdown",
   "id": "2d0fa27a-b115-4d02-9953-6ec3904543e4",
   "metadata": {},
   "source": [
    "**Objectives.** \n",
    "-Rstudio\n",
    "-Phyton\n",
    "-Julia"
   ]
  },
  {
   "cell_type": "markdown",
   "id": "c648b5bc-a76d-404d-897d-3886d167e1dc",
   "metadata": {},
   "source": [
    "Some of the popular languages that Data Scientists use are:\n",
    "\n",
    "1. Phyton\n",
    "2. R\n",
    "3. SQL"
   ]
  },
  {
   "cell_type": "markdown",
   "id": "2b6e1b17-a144-401f-912c-72e26a45ff13",
   "metadata": {},
   "source": [
    "Some of the commonly used libraries used by Data Scientists include:\n",
    "\n",
    "1. Pandas\n",
    "2. Numpy\n",
    "3. Scikit-learn"
   ]
  },
  {
   "cell_type": "markdown",
   "id": "cdba7eb8-4e7d-447c-ac1b-5aa7a1f218e6",
   "metadata": {},
   "source": [
    "\n",
    "|Data Science tools |\n",
    "|------|\n",
    "|Sypder|\n",
    "|Jupyterlab|\n",
    "|Rstudio|"
   ]
  },
  {
   "cell_type": "markdown",
   "id": "954e937d-4cc4-4bd4-8616-ee6f828ec087",
   "metadata": {},
   "source": [
    "### Below are a few examples of evaluating arithmetic expressions in Python\n",
    "\n"
   ]
  },
  {
   "cell_type": "code",
   "execution_count": 76,
   "id": "ce146468-59ac-400b-98d1-f68b6fe65608",
   "metadata": {},
   "outputs": [
    {
     "name": "stdout",
     "output_type": "stream",
     "text": [
      "17\n"
     ]
    }
   ],
   "source": [
    "# This a simple arithmetic expression to mutiply then add integers\n",
    "print((3*4)+5)\n"
   ]
  },
  {
   "cell_type": "code",
   "execution_count": 78,
   "id": "d6f380fa-7cc5-43b6-8992-a9919471aa4d",
   "metadata": {},
   "outputs": [
    {
     "name": "stdout",
     "output_type": "stream",
     "text": [
      "200 minutes is equal to 3.33 hours.\n"
     ]
    }
   ],
   "source": [
    "# This will convert 200 minutes to hours by diving by 60.\n",
    "# Convert minutes to hours\n",
    "minutes = 200\n",
    "\n",
    "# 1 hour = 60 minutes, so we divide by 60 to convert to hours\n",
    "hours = minutes / 60\n",
    "\n",
    "# Display the result\n",
    "print(f\"{minutes} minutes is equal to {hours:.2f} hours.\")"
   ]
  },
  {
   "cell_type": "markdown",
   "id": "bee3f4ad-ae5c-4cd7-b0fa-068bd895d19f",
   "metadata": {},
   "source": [
    "## Author\n",
    "Muhamad Azizulhakim "
   ]
  },
  {
   "cell_type": "code",
   "execution_count": null,
   "id": "8689ed23-de7a-4a33-9bad-b8436f0dca6f",
   "metadata": {},
   "outputs": [],
   "source": []
  }
 ],
 "metadata": {
  "kernelspec": {
   "display_name": "Python 3 (ipykernel)",
   "language": "python",
   "name": "python3"
  },
  "language_info": {
   "codemirror_mode": {
    "name": "ipython",
    "version": 3
   },
   "file_extension": ".py",
   "mimetype": "text/x-python",
   "name": "python",
   "nbconvert_exporter": "python",
   "pygments_lexer": "ipython3",
   "version": "3.12.4"
  }
 },
 "nbformat": 4,
 "nbformat_minor": 5
}
